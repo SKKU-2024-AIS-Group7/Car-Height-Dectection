{
 "cells": [
  {
   "cell_type": "markdown",
   "metadata": {},
   "source": [
    "### 1. 모듈 경로 설정"
   ]
  },
  {
   "cell_type": "code",
   "execution_count": null,
   "metadata": {},
   "outputs": [],
   "source": [
    "import os\n",
    "import sys\n",
    "\n",
    "project_root = os.path.abspath(os.path.join(os.getcwd(), '..'))\n",
    "if project_root not in sys.path:\n",
    "    sys.path.append(project_root)\n",
    "\n",
    "scripts_path = os.path.join(project_root, 'scripts')\n",
    "if scripts_path not in sys.path:\n",
    "    sys.path.append(scripts_path)\n",
    "\n",
    "yolov5_path = os.path.join(project_root, 'yolov5')\n",
    "if yolov5_path not in sys.path:\n",
    "    sys.path.append(yolov5_path)\n",
    "\n",
    "from scripts.upload_to_hf import hf_login, upload_model_to_hf"
   ]
  },
  {
   "cell_type": "markdown",
   "metadata": {},
   "source": [
    "### 2. 모델 파인튜닝"
   ]
  },
  {
   "cell_type": "code",
   "execution_count": null,
   "metadata": {},
   "outputs": [],
   "source": [
    "# data.yaml 파일 경로 설정\n",
    "data_yaml_path = '../yolov5/data/yolo/data.yaml'\n",
    "\n",
    "# 모델 파인튜닝 실행\n",
    "!python ../yolov5/train.py --img 640 --batch 32 --epochs 1000 --data {data_yaml_path} --weights yolov5s.pt --cache"
   ]
  },
  {
   "cell_type": "code",
   "execution_count": null,
   "metadata": {},
   "outputs": [],
   "source": [
    "# data.yaml 파일 경로 설정\n",
    "data_yaml_path = '../yolov5/data/coco/data.yaml'\n",
    "\n",
    "# 모델 파인튜닝 실행\n",
    "!python ../yolov5/train.py --img 640 --batch 32 --epochs 1000 --data {data_yaml_path} --weights ../yolov5/runs/train/exp2/weights/best.pt --cache"
   ]
  },
  {
   "cell_type": "markdown",
   "metadata": {},
   "source": [
    "### 3. 허깅페이스에 업로드"
   ]
  },
  {
   "cell_type": "code",
   "execution_count": null,
   "metadata": {},
   "outputs": [],
   "source": [
    "hf_login()\n",
    "\n",
    "repo_name = \"jspark2000/yolov5-vehicle\"\n",
    "local_model_dir = \"../yolov5/runs/train/exp2/weights\"\n",
    "filenames = [\"best.pt\", \"last.pt\"]\n",
    "\n",
    "upload_model_to_hf(repo_name, local_model_dir, filenames)"
   ]
  },
  {
   "cell_type": "markdown",
   "metadata": {},
   "source": [
    "### 4. 허깅페이스에서 다운로드 후 테스트"
   ]
  },
  {
   "cell_type": "code",
   "execution_count": null,
   "metadata": {},
   "outputs": [],
   "source": [
    "import torch\n",
    "from PIL import Image\n",
    "import cv2\n",
    "import matplotlib.pyplot as plt\n",
    "import pandas as pd\n",
    "import numpy as np"
   ]
  },
  {
   "cell_type": "code",
   "execution_count": null,
   "metadata": {},
   "outputs": [],
   "source": [
    "hf_path = 'https://huggingface.co/jspark2000/yolov5-vehicle/resolve/main/best.pt'\n",
    "model = torch.hub.load('ultralytics/yolov5', 'custom', path=hf_path, force_reload=True)\n",
    "\n",
    "image_url = \"../yolov5/data/images/bus.jpg\"\n",
    "img = Image.open(image_url)\n",
    "\n",
    "results = model(img)\n",
    "results_df = results.pandas().xyxy[0]\n",
    "results.show()\n",
    "\n",
    "results_df.columns = ['xmin', 'ymin', 'xmax', 'ymax', 'confidence', 'class', 'name']\n",
    "print(results_df)"
   ]
  }
 ],
 "metadata": {
  "kernelspec": {
   "display_name": "Python 3",
   "language": "python",
   "name": "python3"
  },
  "language_info": {
   "codemirror_mode": {
    "name": "ipython",
    "version": 3
   },
   "file_extension": ".py",
   "mimetype": "text/x-python",
   "name": "python",
   "nbconvert_exporter": "python",
   "pygments_lexer": "ipython3",
   "version": "3.11.9"
  }
 },
 "nbformat": 4,
 "nbformat_minor": 2
}
