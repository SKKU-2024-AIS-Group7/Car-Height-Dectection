{
 "cells": [
  {
   "cell_type": "code",
   "metadata": {},
   "source": [
    "# 경로 설정\n",
    "\n",
    "import os\n",
    "import sys\n",
    "\n",
    "project_root = os.path.abspath(os.path.join(os.getcwd(), '..'))\n",
    "if project_root not in sys.path:\n",
    "    sys.path.append(project_root)\n",
    "\n",
    "yolov5_path = os.path.join(project_root, 'yolov5')\n",
    "if yolov5_path not in sys.path:\n",
    "    sys.path.append(yolov5_path)\n"
   ]
  },
  {
   "cell_type": "code",
   "metadata": {},
   "source": [
    "# data.yaml 파일 경로 설정\n",
    "data_yaml_path = '../yolov5/data/data.yaml'\n",
    "\n",
    "# 모델 파인튜닝 실행\n",
    "!python ../yolov5/train.py --img 640 --batch 16 --epochs 50 --data {data_yaml_path} --weights yolov5s.pt --cache"
   ]
  }
 ],
 "metadata": {
  "kernelspec": {
   "display_name": "Python 3",
   "language": "python",
   "name": "python3"
  },
  "language_info": {
   "codemirror_mode": {
    "name": "ipython",
    "version": 3
   },
   "file_extension": ".py",
   "mimetype": "text/x-python",
   "name": "python",
   "nbconvert_exporter": "python",
   "pygments_lexer": "ipython3",
   "version": "3.11.9"
  }
 },
 "nbformat": 4,
 "nbformat_minor": 2
}
