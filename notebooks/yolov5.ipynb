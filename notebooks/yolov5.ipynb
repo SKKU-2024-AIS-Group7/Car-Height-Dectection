{
 "cells": [
  {
   "cell_type": "markdown",
   "metadata": {},
   "source": [
    "### 1. 모듈 경로 설정"
   ]
  },
  {
   "cell_type": "code",
   "execution_count": null,
   "metadata": {},
   "outputs": [],
   "source": [
    "import os\n",
    "import sys\n",
    "\n",
    "project_root = os.path.abspath(os.path.join(os.getcwd(), '..'))\n",
    "if project_root not in sys.path:\n",
    "    sys.path.append(project_root)\n",
    "\n",
    "scripts_path = os.path.join(project_root, 'scripts')\n",
    "if scripts_path not in sys.path:\n",
    "    sys.path.append(scripts_path)\n",
    "\n",
    "yolov5_path = os.path.join(project_root, 'yolov5')\n",
    "if yolov5_path not in sys.path:\n",
    "    sys.path.append(yolov5_path)\n",
    "\n",
    "from scripts.utils import *"
   ]
  },
  {
   "cell_type": "markdown",
   "metadata": {},
   "source": [
    "### 2. 모델 파인튜닝"
   ]
  },
  {
   "cell_type": "code",
   "execution_count": null,
   "metadata": {},
   "outputs": [],
   "source": [
    "# data.yaml 파일 경로 설정\n",
    "data_yaml_path = '../yolov5/data/yolo/data.yaml'\n",
    "\n",
    "# 모델 파인튜닝 실행\n",
    "!python ../yolov5/train.py --img 640 --batch 16 --epochs 100 --data {data_yaml_path} --weights yolov5m.pt --cache"
   ]
  },
  {
   "cell_type": "code",
   "execution_count": null,
   "metadata": {},
   "outputs": [],
   "source": [
    "download_images_from_rb()"
   ]
  },
  {
   "cell_type": "code",
   "execution_count": null,
   "metadata": {},
   "outputs": [],
   "source": [
    "# data.yaml 파일 경로 설정\n",
    "data_yaml_path = '../yolov5/data/roboflow/data.yaml'\n",
    "\n",
    "# latest_exp_dir = find_latest_exp_dir()\n",
    "# best_weights_path = os.path.join(latest_exp_dir, 'weights', 'best.pt')\n",
    "# print(f'Using weights from: {best_weights_path}')\n",
    "\n",
    "best_weights_path = \"../yolov5/runs/train/exp3/weights/best.pt\"\n",
    "\n",
    "\n",
    "# 모델 파인튜닝 실행\n",
    "!python ../yolov5/train.py --img 640 --batch 16 --epochs 10 --data {data_yaml_path} --weights {best_weights_path} --cache"
   ]
  },
  {
   "cell_type": "markdown",
   "metadata": {},
   "source": [
    "### 3. 허깅페이스에 업로드"
   ]
  },
  {
   "cell_type": "code",
   "execution_count": null,
   "metadata": {},
   "outputs": [],
   "source": [
    "hf_login()\n",
    "\n",
    "latest_exp_dir = find_latest_exp_dir()\n",
    "\n",
    "repo_name = \"jspark2000/yolov5-vehicle\"\n",
    "local_model_dir = os.path.join(latest_exp_dir, 'weights')\n",
    "filenames = [\"best.pt\", \"last.pt\"]\n",
    "\n",
    "upload_model_to_hf(repo_name, local_model_dir, filenames)"
   ]
  },
  {
   "cell_type": "markdown",
   "metadata": {},
   "source": [
    "### 4. 허깅페이스에서 다운로드 후 테스트"
   ]
  },
  {
   "cell_type": "code",
   "execution_count": null,
   "metadata": {},
   "outputs": [],
   "source": [
    "import torch\n",
    "from PIL import Image\n",
    "import cv2\n",
    "import matplotlib.pyplot as plt\n",
    "import pandas as pd\n",
    "import numpy as np"
   ]
  },
  {
   "cell_type": "code",
   "execution_count": null,
   "metadata": {},
   "outputs": [],
   "source": [
    "hf_path = 'https://huggingface.co/jspark2000/yolov5-vehicle/resolve/main/best.pt'\n",
    "model = torch.hub.load('ultralytics/yolov5', 'custom', path=hf_path, force_reload=True)\n",
    "\n",
    "image_url = \"../data/1234.jpg\"\n",
    "img = Image.open(image_url)\n",
    "\n",
    "results = model(img)\n",
    "results_df = results.pandas().xyxy[0]\n",
    "results.show()\n",
    "\n",
    "results_df.columns = ['xmin', 'ymin', 'xmax', 'ymax', 'confidence', 'class', 'name']\n",
    "print(results_df)"
   ]
  }
 ],
 "metadata": {
  "kernelspec": {
   "display_name": "Python 3",
   "language": "python",
   "name": "python3"
  },
  "language_info": {
   "codemirror_mode": {
    "name": "ipython",
    "version": 3
   },
   "file_extension": ".py",
   "mimetype": "text/x-python",
   "name": "python",
   "nbconvert_exporter": "python",
   "pygments_lexer": "ipython3",
   "version": "3.9.19"
  }
 },
 "nbformat": 4,
 "nbformat_minor": 2
}
