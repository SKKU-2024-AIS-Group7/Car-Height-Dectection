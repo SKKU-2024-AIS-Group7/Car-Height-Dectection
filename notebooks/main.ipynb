{
 "cells": [
  {
   "cell_type": "code",
   "execution_count": null,
   "metadata": {},
   "outputs": [],
   "source": [
    "import torch\n",
    "import torchvision\n",
    "import cv2\n",
    "import numpy as np"
   ]
  },
  {
   "cell_type": "code",
   "execution_count": null,
   "metadata": {},
   "outputs": [],
   "source": [
    "hf_path = 'https://huggingface.co/jspark2000/yolov5-vehicle/resolve/main/best.pt'\n",
    "yolov5_model = torch.hub.load('ultralytics/yolov5', 'custom', path=hf_path, force_reload=True)\n",
    "\n",
    "mask_rcnn_model = torchvision.models.detection.maskrcnn_resnet50_fpn(pretrained=True)\n",
    "mask_rcnn_model.eval()\n",
    "\n",
    "\n",
    "def load_image(image_path):\n",
    "    image = cv2.imread(image_path)\n",
    "    if image is None:\n",
    "        raise FileNotFoundError(f\"Image file not found at {image_path}\")\n",
    "    image_rgb = cv2.cvtColor(image, cv2.COLOR_BGR2RGB)\n",
    "    return image_rgb\n",
    "\n",
    "\n",
    "def detect_objects(image):\n",
    "    results = yolov5_model(image)\n",
    "    return results.xyxy[0].cpu().numpy()\n",
    "\n",
    "\n",
    "def segment_objects(image, boxes, target_size=(224, 224)):\n",
    "    transform = torchvision.transforms.Compose([\n",
    "        torchvision.transforms.ToPILImage(),\n",
    "        torchvision.transforms.Resize(target_size, interpolation=torchvision.transforms.InterpolationMode.BILINEAR),\n",
    "        torchvision.transforms.ToTensor()\n",
    "    ])\n",
    "\n",
    "    image_tensor = torch.from_numpy(image).permute(2, 0, 1).float() / 255.0\n",
    "    masks = []\n",
    "\n",
    "    for _, box in enumerate(boxes):\n",
    "        x1, y1, x2, y2 = map(int, box[:4])\n",
    "        cropped_image = image_tensor[:, y1:y2, x1:x2]\n",
    "        resized_image = transform(cropped_image.permute(1, 2, 0).numpy())\n",
    "        resized_image = resized_image.unsqueeze(0)\n",
    "\n",
    "        with torch.no_grad():\n",
    "            output = mask_rcnn_model(resized_image)\n",
    "\n",
    "        mask = output[0]['masks'][0, 0].mul(255).byte().cpu().numpy()\n",
    "        print(output)\n",
    "        masks.append((x1, y1, x2, y2, mask))\n",
    "\n",
    "    return masks\n",
    "\n",
    "\n",
    "def draw_boxes_and_masks(image, boxes, masks):\n",
    "    heights = []\n",
    "\n",
    "    for _, (_, mask_info) in enumerate(zip(boxes, masks)):\n",
    "        x1, y1, x2, y2, mask = mask_info\n",
    "\n",
    "        # colored_mask = np.zeros_like(image, dtype=np.uint8)\n",
    "        # colored_mask[y1:y2, x1:x2][mask > 127] = (0, 255, 0)\n",
    "\n",
    "        # image = cv2.addWeighted(image, 1, colored_mask, 0.5, 0)\n",
    "        vehicle_height_pixels = y2 - y1\n",
    "\n",
    "        heights.append(vehicle_height_pixels)\n",
    "\n",
    "    return image, heights\n",
    "\n",
    "\n",
    "def main(image_path):    \n",
    "    image_rgb = load_image(image_path)\n",
    "    boxes = detect_objects(image_rgb)\n",
    "    vehicle_boxes = [box for box in boxes if int(box[5]) in [1, 10]]\n",
    "    masks = segment_objects(image_rgb, vehicle_boxes)\n",
    "    image_with_masks, heights = draw_boxes_and_masks(image_rgb, vehicle_boxes, masks)\n",
    "\n",
    "    output_image = cv2.cvtColor(image_with_masks, cv2.COLOR_RGB2BGR)\n",
    "    cv2.imwrite('../images/results/output_image_with_masks.jpg', output_image)\n",
    "\n",
    "    print(heights)"
   ]
  },
  {
   "cell_type": "code",
   "execution_count": null,
   "metadata": {},
   "outputs": [],
   "source": [
    "main(\"../images/sample.jpg\")"
   ]
  }
 ],
 "metadata": {
  "kernelspec": {
   "display_name": "Python 3",
   "language": "python",
   "name": "python3"
  },
  "language_info": {
   "codemirror_mode": {
    "name": "ipython",
    "version": 3
   },
   "file_extension": ".py",
   "mimetype": "text/x-python",
   "name": "python",
   "nbconvert_exporter": "python",
   "pygments_lexer": "ipython3",
   "version": "3.11.9"
  }
 },
 "nbformat": 4,
 "nbformat_minor": 2
}
